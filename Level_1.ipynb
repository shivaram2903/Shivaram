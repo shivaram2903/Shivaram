{
  "nbformat": 4,
  "nbformat_minor": 0,
  "metadata": {
    "colab": {
      "provenance": [],
      "authorship_tag": "ABX9TyO6VyRPVK4p6ry+WTcT3v2S",
      "include_colab_link": true
    },
    "kernelspec": {
      "name": "python3",
      "display_name": "Python 3"
    },
    "language_info": {
      "name": "python"
    }
  },
  "cells": [
    {
      "cell_type": "markdown",
      "metadata": {
        "id": "view-in-github",
        "colab_type": "text"
      },
      "source": [
        "<a href=\"https://colab.research.google.com/github/shivaram2903/Shivaram/blob/main/Level_1.ipynb\" target=\"_parent\"><img src=\"https://colab.research.google.com/assets/colab-badge.svg\" alt=\"Open In Colab\"/></a>"
      ]
    },
    {
      "cell_type": "markdown",
      "source": [
        "                        \n",
        "#Level - 1\n",
        "1.    String Reversal\n",
        "2.    Temperature Conversion\n",
        "3.    Email Validator\n",
        "4.    Calculator Program\n",
        "5.    Palindrome Checker\n",
        "\n",
        "\n",
        "\n",
        "\n",
        "\n",
        "\n",
        "\n",
        "\n"
      ],
      "metadata": {
        "id": "KTey5lV3WwmV"
      }
    },
    {
      "cell_type": "code",
      "execution_count": 8,
      "metadata": {
        "colab": {
          "base_uri": "https://localhost:8080/"
        },
        "id": "hik8YxoIUkc-",
        "outputId": "a1e3dd43-1413-4f7a-9424-72373eda675d"
      },
      "outputs": [
        {
          "output_type": "stream",
          "name": "stdout",
          "text": [
            "Enter a string : Hello\n",
            "The Reversed string of Hello is olleH \n"
          ]
        }
      ],
      "source": [
        "#Task - 1: String Reversal\n",
        "\n",
        "string = input(\"Enter a string : \")\n",
        "reversed_string = \"\"\n",
        "\n",
        "#Technique_1\n",
        "# for char in string:\n",
        "#     reversed_string = char + reversed_string\n",
        "\n",
        "#Technique_2\n",
        "length = len(string)\n",
        "for i in range(length):\n",
        "    reversed_string = reversed_string + string[length -i-1]\n",
        "\n",
        "\n",
        "# #Technique 3\n",
        "# reversed_string = string[::-1]\n",
        "\n",
        "print(\"The Reversed string of {} is {} \".format(string,reversed_string))"
      ]
    },
    {
      "cell_type": "code",
      "source": [
        "#Task-2 : Temperature Conversion\n",
        "\n",
        "\n",
        "list_a = []\n",
        "\n",
        "def convert_from_c_to_f(temperature, value, original_temperature_degree):\n",
        "    c_to_f_formula = value * 9/5 + 32\n",
        "    res = \"\\n\\tThe converted degree value of \" + str(value) + original_temperature_degree + \" is \"  + str(c_to_f_formula) + \"F\\n\\t\"\n",
        "    return res\n",
        "\n",
        "\n",
        "def convert_from_f_to_c(temperature, value, original_temperature_degree):\n",
        "    f_to_c_formula = (value - 32) / 1.8\n",
        "    res1 = \"\\n\\t The converted degree value of \" + str(value) + original_temperature_degree + \"is \" + str(f_to_c_formula) + \"C\\n\\t\"\n",
        "    return res1\n",
        "\n",
        "\n",
        "def temperature_conversion_program():\n",
        "\n",
        "\n",
        "    temp = input(\"\\n\\tEnter the temperature value [ex:25.4C or 36.2F]: \")\n",
        "    value = float(temp[:-1])\n",
        "    original_temp_degree = temp[-1]\n",
        "    original_temp_degree = original_temp_degree.upper()\n",
        "\n",
        "    list_a = [temp, value, original_temp_degree]\n",
        "\n",
        "    return list_a\n",
        "\n",
        "\n",
        "\n",
        "\n",
        "\n",
        "boolean_value = True\n",
        "while boolean_value:\n",
        "\n",
        "    program = temperature_conversion_program()\n",
        "\n",
        "    temperature = program[0]\n",
        "    value = program[1]\n",
        "    original_temperature_degree = program[2]\n",
        "\n",
        "    if original_temperature_degree == \"C\":\n",
        "        result = convert_from_c_to_f(temperature, value, original_temperature_degree)\n",
        "        print(result)\n",
        "        boolean_value = False\n",
        "\n",
        "    elif original_temperature_degree == \"F\":\n",
        "        result= convert_from_f_to_c(temperature, value, original_temperature_degree)\n",
        "        print(result)\n",
        "        boolean_value = False\n",
        "    else:\n",
        "        print(\"\\n\\tYou entered wrong temperature degree.\")\n",
        ""
      ],
      "metadata": {
        "colab": {
          "base_uri": "https://localhost:8080/"
        },
        "id": "aKgu6QDEU-DG",
        "outputId": "15f65f19-f62c-4379-9633-00f8beea0a89"
      },
      "execution_count": 9,
      "outputs": [
        {
          "output_type": "stream",
          "name": "stdout",
          "text": [
            "\n",
            "\tEnter the temperature value [ex:25.4C or 36.2F]: 96.7c\n",
            "\n",
            "\tThe converted degree value of 96.7C is 206.06F\n",
            "\t\n"
          ]
        }
      ]
    },
    {
      "cell_type": "code",
      "source": [
        "#Task-3 : Email Validator\n",
        "\n",
        "email_id = input(\"Enter email id : \")\n",
        "domain_name = \"@gmail.com\"\n",
        "if email_id[-10:] == domain_name:\n",
        "    print(\"It is a valid Email ID\")\n",
        "else:\n",
        "    print(\"It is an invalid Email ID\")"
      ],
      "metadata": {
        "colab": {
          "base_uri": "https://localhost:8080/"
        },
        "id": "U0Aqnw4TV8q3",
        "outputId": "996c1b7b-c31f-4a64-f773-4e8df09e0ab3"
      },
      "execution_count": 11,
      "outputs": [
        {
          "output_type": "stream",
          "name": "stdout",
          "text": [
            "Enter email id : shiva@email.com\n",
            "It is an invalid Email ID\n"
          ]
        }
      ]
    },
    {
      "cell_type": "code",
      "source": [
        "#Task-4 : Calculator Program\n",
        "\n",
        "\n",
        "num_1 = float(input(\"Enter 1st number : \"))\n",
        "num_2 = float(input(\"Enter 2nd number : \"))\n",
        "operator = input(\"enter the operator (+,-,*,/) :  \")\n",
        "\n",
        "\n",
        "if operator == \"+\":\n",
        "    addition = num_1 + num_2\n",
        "    print(\"The addition of {} and {} is {}\".format(num_1,num_2,addition) )\n",
        "elif operator == \"-\":\n",
        "    subtraction = num_1 - num_2\n",
        "    print(\"The subtraction of {} and {}  is {}\".format(num_1,num_2,subtraction))\n",
        "elif operator == \"*\":\n",
        "    multiplication = num_1 * num_2\n",
        "    print(\"The multiplication of {} and {}  is {}\".format(num_1,num_2,multiplication))\n",
        "elif operator == \"/\":\n",
        "    division = num_1 / num_2\n",
        "    print(\"The division of {} and {}  is {}\".format(num_1,num_2,division))\n",
        "else:\n",
        "    print(\"You entered wrong operator\")\n",
        ""
      ],
      "metadata": {
        "colab": {
          "base_uri": "https://localhost:8080/"
        },
        "id": "dlWJeDu-WD3M",
        "outputId": "8e967ef7-3cdd-4385-81b9-1fd9c99af56b"
      },
      "execution_count": 12,
      "outputs": [
        {
          "output_type": "stream",
          "name": "stdout",
          "text": [
            "Enter 1st number : 69.6\n",
            "Enter 2nd number : 98.5\n",
            "enter the operator (+,-,*,/) :  *\n",
            "The multiplication of 69.6 and 98.5  is 6855.599999999999\n"
          ]
        }
      ]
    },
    {
      "cell_type": "code",
      "source": [
        "# Task-5 : Palindrome Checker\n",
        "\n",
        "\n",
        "def is_palindrome(input_str):\n",
        "    # Remove spaces and convert to lowercase for case-insensitive comparison\n",
        "    cleaned_str = input_str.replace(\" \", \"\").lower()\n",
        "\n",
        "    # Check if the cleaned string is equal to its reverse\n",
        "    return cleaned_str == cleaned_str[::-1]\n",
        "\n",
        "# Get input from the user\n",
        "user_input = input(\"Enter a string: \")\n",
        "\n",
        "# Check if the input is a palindrome\n",
        "if is_palindrome(user_input):\n",
        "    print(f\"{user_input} is a palindrome!\")\n",
        "else:\n",
        "    print(f\"{user_input} is not a palindrome.\")\n",
        "\n"
      ],
      "metadata": {
        "colab": {
          "base_uri": "https://localhost:8080/"
        },
        "id": "zHvx55LAWMGP",
        "outputId": "8f6591bc-5962-4dc8-d1c9-c27bb137fe30"
      },
      "execution_count": 14,
      "outputs": [
        {
          "output_type": "stream",
          "name": "stdout",
          "text": [
            "Enter a string: Hello\n",
            "Hello is not a palindrome.\n"
          ]
        }
      ]
    }
  ]
}