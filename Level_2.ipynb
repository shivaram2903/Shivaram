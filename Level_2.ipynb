{
  "nbformat": 4,
  "nbformat_minor": 0,
  "metadata": {
    "colab": {
      "provenance": [],
      "authorship_tag": "ABX9TyPg2scA2i7L3eMmUvI1yvxf",
      "include_colab_link": true
    },
    "kernelspec": {
      "name": "python3",
      "display_name": "Python 3"
    },
    "language_info": {
      "name": "python"
    }
  },
  "cells": [
    {
      "cell_type": "markdown",
      "metadata": {
        "id": "view-in-github",
        "colab_type": "text"
      },
      "source": [
        "<a href=\"https://colab.research.google.com/github/shivaram2903/Shivaram/blob/main/Level_2.ipynb\" target=\"_parent\"><img src=\"https://colab.research.google.com/assets/colab-badge.svg\" alt=\"Open In Colab\"/></a>"
      ]
    },
    {
      "cell_type": "code",
      "source": [
        "import random\n",
        "\n",
        "def guessing_game(random_num, guessed_num):\n",
        "    if guessed_num > random_num:\n",
        "        print(\"The guessed number is too high\")\n",
        "        guessed_num = int(input(\"Again, Guess a number from 1 to 100 : \"))\n",
        "        guessing_game(random_num,guessed_num)\n",
        "    elif guessed_num < random_num:\n",
        "        print(\"The guessed number is too low\")\n",
        "        guessed_num = int(input(\"Again, Guess a number from 1 to 100 : \"))\n",
        "        guessing_game(random_num,guessed_num)\n",
        "    else:\n",
        "        print(\"You Guessed it correctly!\")\n",
        "\n",
        "\n",
        "random_number = random.randint(1,100)\n",
        "\n",
        "guessed_number = int(input(\"Guess a number from 1 to 100 : \"))\n",
        "\n",
        "guessing_game(random_number, guessed_number)"
      ],
      "metadata": {
        "id": "tSstRmzL461N"
      },
      "execution_count": null,
      "outputs": []
    },
    {
      "cell_type": "code",
      "source": [
        "import random\n",
        "\n",
        "def guessing_game(random_num, guessed_num):\n",
        "    if guessed_num > random_num:\n",
        "        print(\"The guessed number is too high\")\n",
        "        guessed_num = int(input(\"Again, Guess a number from {} to {} : \".format(starting_range,ending_range)))\n",
        "        guessing_game(random_num,guessed_num)\n",
        "    elif guessed_num < random_num:\n",
        "        print(\"The guessed number is too low\")\n",
        "        guessed_num = int(input(\"Again, Guess a number from {} to {} : \".format(starting_range,ending_range)))\n",
        "        guessing_game(random_num,guessed_num)\n",
        "    else:\n",
        "        print(\"You Guessed it correctly!\")\n",
        "\n",
        "starting_range = 100\n",
        "ending_range = 200\n",
        "random_number = random.randint(starting_range,ending_range)\n",
        "\n",
        "guessed_number = int(input(\"Guess a number from {} to {} : \".format(starting_range,ending_range)))\n",
        "\n",
        "guessing_game(random_number, guessed_number)"
      ],
      "metadata": {
        "id": "M6RAduxE45x7"
      },
      "execution_count": null,
      "outputs": []
    },
    {
      "cell_type": "code",
      "source": [
        "password = input(\"Enter the password: \")\n",
        "digits = range(48, 58)\n",
        "lower_case_characters = range(97, 123)\n",
        "upper_case_charaters = range(65, 91)\n",
        "special_characters = \"!@#$%^&*()-_=+[]}{|;:'\\,.<>/?`~\"\n",
        "length = len(password)\n",
        "length_condition = length <= 8\n",
        "\n",
        "if length_condition:\n",
        "    print(\"Your Password is weak\")\n",
        "    print(\"The length of the password must be greater than 8 characters!\")\n",
        "else:\n",
        "    len_of_upper_case_chars = 0\n",
        "    for char in password:\n",
        "        if ord(char) in upper_case_charaters:\n",
        "            len_of_upper_case_chars += 1\n",
        "    if len_of_upper_case_chars == 0:\n",
        "        print(\"Your Password is weak\")\n",
        "        print(\"The password must contain minimum 1 upper case letter!\")\n",
        "    else:\n",
        "        len_of_lower_case_chars = 0\n",
        "        for char in password:\n",
        "            if ord(char) in lower_case_characters:\n",
        "                len_of_lower_case_chars += 1\n",
        "        if len_of_lower_case_chars == 0:\n",
        "            print(\"Your Password is weak\")\n",
        "            print(\"The Password must contain minimum 1 lower case letter!\")\n",
        "        else:\n",
        "            len_of_digits = 0\n",
        "            for char in password:\n",
        "                if ord(char) in digits:\n",
        "                    len_of_digits += 1\n",
        "            if len_of_digits == 0:\n",
        "                print(\"Your Password is weak\")\n",
        "                print(\"The Password must contain atleast 1 number!\")\n",
        "            else:\n",
        "                len_of_special_characters = 0\n",
        "                for char in password:\n",
        "                    if char in special_characters:\n",
        "                        len_of_special_characters += 1\n",
        "                if len_of_special_characters == 0:\n",
        "                    print(\"Your Password is weak\")\n",
        "                    print(\"The password must contain atleast 1 special character like {}\".format(special_characters))\n",
        "                else:\n",
        "                    print(\"Your Password is Very Strong!\")"
      ],
      "metadata": {
        "id": "IX0TZ5r6456t"
      },
      "execution_count": null,
      "outputs": []
    },
    {
      "cell_type": "code",
      "source": [
        "def fibonacci(n):\n",
        "    if n == 0:\n",
        "        return 0\n",
        "    elif n == 1:\n",
        "        return 1\n",
        "    else:\n",
        "        return fibonacci(n - 1) + fibonacci(n - 2)\n",
        "\n",
        "input_ = int(input(\"Enter the number of terms to be generated : \"))\n",
        "for i in range(0,input_+1):\n",
        "    print(fibonacci(i))\n"
      ],
      "metadata": {
        "id": "CdwGEvPy46qC"
      },
      "execution_count": null,
      "outputs": []
    },
    {
      "cell_type": "code",
      "execution_count": null,
      "metadata": {
        "id": "dGNUCYGT4sVe"
      },
      "outputs": [],
      "source": [
        "import string\n",
        "\n",
        "def count_words(file_path):\n",
        "    with open(file_path, 'r') as file:\n",
        "\n",
        "        contents = file.read()\n",
        "\n",
        "\n",
        "        contents = contents.translate(str.maketrans('', '', string.punctuation))\n",
        "        words = contents.split()\n",
        "        word_count = {}\n",
        "        for word in words:\n",
        "            if word in word_count:\n",
        "                word_count[word] += 1\n",
        "            else:\n",
        "                word_count[word] = 1\n",
        "        sorted_word_count = dict(sorted(word_count.items()))\n",
        "        for word, count in sorted_word_count.items():\n",
        "            print(f\"{word}: {count}\")\n",
        "\n",
        "\n",
        "count_words('example.txt')"
      ]
    }
  ]
}